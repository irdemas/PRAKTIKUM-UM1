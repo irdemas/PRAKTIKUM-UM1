{
  "nbformat": 4,
  "nbformat_minor": 0,
  "metadata": {
    "colab": {
      "provenance": [],
      "authorship_tag": "ABX9TyPgJJna/S/q69tPlSiOPFUr",
      "include_colab_link": true
    },
    "kernelspec": {
      "name": "python3",
      "display_name": "Python 3"
    },
    "language_info": {
      "name": "python"
    }
  },
  "cells": [
    {
      "cell_type": "markdown",
      "metadata": {
        "id": "view-in-github",
        "colab_type": "text"
      },
      "source": [
        "<a href=\"https://colab.research.google.com/github/irdemas/PRAKTIKUM-UM1/blob/main/tr_um_1.ipynb\" target=\"_parent\"><img src=\"https://colab.research.google.com/assets/colab-badge.svg\" alt=\"Open In Colab\"/></a>"
      ]
    },
    {
      "cell_type": "markdown",
      "source": [
        "PENGUAT DAYA KELAS AB"
      ],
      "metadata": {
        "id": "TGui9eoBo1Q8"
      }
    },
    {
      "cell_type": "markdown",
      "source": [
        "$d\\mathrm{C}_{d}^{f}$"
      ],
      "metadata": {
        "id": "6Ec-HN5fHzTH"
      }
    }
  ]
}